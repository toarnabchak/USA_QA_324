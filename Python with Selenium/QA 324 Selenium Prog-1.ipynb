{
 "cells": [
  {
   "cell_type": "markdown",
   "id": "010b6600-2a9a-4bb8-aecb-ad5776e3ae49",
   "metadata": {},
   "source": [
    "# **Selenium Code Example - 1/3**"
   ]
  },
  {
   "cell_type": "markdown",
   "id": "cacb8e74-5f31-41dd-acce-ea2128a9d9a6",
   "metadata": {},
   "source": [
    "## **Start Chrome Driver using executable path and start any webpage with get() function.**"
   ]
  },
  {
   "cell_type": "code",
   "execution_count": 1,
   "id": "3b6013e6-e2fe-402c-8522-31e3bcc6080b",
   "metadata": {},
   "outputs": [],
   "source": [
    "# importing required modules\n",
    "from selenium import webdriver\n",
    "from selenium.webdriver.chrome.service import Service"
   ]
  },
  {
   "cell_type": "code",
   "execution_count": 2,
   "id": "af51483a-4efa-492d-b369-862898e63e1c",
   "metadata": {},
   "outputs": [
    {
     "name": "stdout",
     "output_type": "stream",
     "text": [
      "4.18.1\n"
     ]
    }
   ],
   "source": [
    "# checking the version of the selenium\n",
    "print (webdriver.__version__)"
   ]
  },
  {
   "cell_type": "code",
   "execution_count": 3,
   "id": "78a74e89-dac1-43f3-b296-7082a0c3d346",
   "metadata": {},
   "outputs": [],
   "source": [
    "# opening a chrome instance\n",
    "service = Service(executable_path='./chromedriver.exe')\n",
    "options = webdriver.ChromeOptions()\n",
    "driver = webdriver.Chrome(service = service, options = options)"
   ]
  },
  {
   "cell_type": "code",
   "execution_count": 4,
   "id": "4c960af6-470b-4757-a58e-80d2e8eab7a5",
   "metadata": {},
   "outputs": [],
   "source": [
    "# closing the chrome instance\n",
    "driver.quit()"
   ]
  },
  {
   "cell_type": "code",
   "execution_count": null,
   "id": "edde1fe4-39c9-4155-bee7-5db8ee05aa33",
   "metadata": {},
   "outputs": [],
   "source": []
  },
  {
   "cell_type": "code",
   "execution_count": null,
   "id": "e90d5ee0-12c2-4035-bccc-f6fcf6b3ae6c",
   "metadata": {},
   "outputs": [],
   "source": []
  },
  {
   "cell_type": "code",
   "execution_count": null,
   "id": "8a531773-b018-4321-a6b3-b92a8f2469b0",
   "metadata": {},
   "outputs": [],
   "source": []
  },
  {
   "cell_type": "code",
   "execution_count": null,
   "id": "47ad6b00-3405-4cea-8ceb-8a2b0ee486de",
   "metadata": {},
   "outputs": [],
   "source": []
  },
  {
   "cell_type": "code",
   "execution_count": null,
   "id": "cd48f7aa-0d4d-415e-8d39-62d6d22ee7d0",
   "metadata": {},
   "outputs": [],
   "source": []
  },
  {
   "cell_type": "code",
   "execution_count": null,
   "id": "930bbd09-defb-45bd-b34d-4061cdce5006",
   "metadata": {},
   "outputs": [],
   "source": []
  },
  {
   "cell_type": "code",
   "execution_count": null,
   "id": "9f538b06-9564-4440-a88f-1ec10c1d6f7d",
   "metadata": {},
   "outputs": [],
   "source": []
  },
  {
   "cell_type": "code",
   "execution_count": null,
   "id": "5c599838-9067-46da-813b-9ff53504d9e4",
   "metadata": {},
   "outputs": [],
   "source": []
  },
  {
   "cell_type": "code",
   "execution_count": null,
   "id": "40dd23f6-b276-4aff-90c4-619a3319500f",
   "metadata": {},
   "outputs": [],
   "source": []
  },
  {
   "cell_type": "code",
   "execution_count": null,
   "id": "931e75a2-0d89-40a4-aab5-4197bd1e9aae",
   "metadata": {},
   "outputs": [],
   "source": []
  },
  {
   "cell_type": "code",
   "execution_count": null,
   "id": "203f841b-9f40-4e71-97a0-b432e9795f38",
   "metadata": {},
   "outputs": [],
   "source": []
  },
  {
   "cell_type": "code",
   "execution_count": null,
   "id": "248be95c-97dd-4abd-a021-d3f5bd9e846b",
   "metadata": {},
   "outputs": [],
   "source": []
  },
  {
   "cell_type": "code",
   "execution_count": null,
   "id": "23f9b0f2-68db-4ef0-b285-47d43b528f4a",
   "metadata": {},
   "outputs": [],
   "source": []
  },
  {
   "cell_type": "code",
   "execution_count": null,
   "id": "6fd43f22-f32f-4c72-871c-5f178f87c1f6",
   "metadata": {},
   "outputs": [],
   "source": []
  },
  {
   "cell_type": "code",
   "execution_count": null,
   "id": "b4179ffe-0f83-4223-8dce-e52aa21ecefc",
   "metadata": {},
   "outputs": [],
   "source": []
  }
 ],
 "metadata": {
  "kernelspec": {
   "display_name": "Python 3 (ipykernel)",
   "language": "python",
   "name": "python3"
  },
  "language_info": {
   "codemirror_mode": {
    "name": "ipython",
    "version": 3
   },
   "file_extension": ".py",
   "mimetype": "text/x-python",
   "name": "python",
   "nbconvert_exporter": "python",
   "pygments_lexer": "ipython3",
   "version": "3.11.7"
  }
 },
 "nbformat": 4,
 "nbformat_minor": 5
}
