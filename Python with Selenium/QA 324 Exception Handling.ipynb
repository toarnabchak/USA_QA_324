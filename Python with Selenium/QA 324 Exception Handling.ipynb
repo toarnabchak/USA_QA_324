{
 "cells": [
  {
   "cell_type": "markdown",
   "id": "e7b00f45-4a2c-47ad-922f-652eea4a2117",
   "metadata": {},
   "source": [
    "# **Python Exception Handling**"
   ]
  },
  {
   "cell_type": "code",
   "execution_count": 1,
   "id": "09980a5c-bea4-433f-bcee-eec827c8d8d1",
   "metadata": {},
   "outputs": [
    {
     "name": "stdin",
     "output_type": "stream",
     "text": [
      "Please enter the first integer:  100\n",
      "Please enter the second integer:  20\n"
     ]
    },
    {
     "name": "stdout",
     "output_type": "stream",
     "text": [
      "So 100 / 20 = 5.0...\n",
      "End of the program...\n"
     ]
    }
   ],
   "source": [
    "num1 = int(input(\"Please enter the first integer: \"))\n",
    "num2 = int(input(\"Please enter the second integer: \"))\n",
    "quotient = num1 / num2\n",
    "print(f\"So {num1} / {num2} = {quotient}...\")\n",
    "print(\"End of the program...\")"
   ]
  },
  {
   "cell_type": "code",
   "execution_count": 2,
   "id": "932aa564-6a4b-41db-bd25-e09ccdad2b46",
   "metadata": {},
   "outputs": [
    {
     "name": "stdin",
     "output_type": "stream",
     "text": [
      "Please enter the first integer:  100\n",
      "Please enter the second integer:  0\n"
     ]
    },
    {
     "ename": "ZeroDivisionError",
     "evalue": "division by zero",
     "output_type": "error",
     "traceback": [
      "\u001b[1;31m---------------------------------------------------------------------------\u001b[0m",
      "\u001b[1;31mZeroDivisionError\u001b[0m                         Traceback (most recent call last)",
      "Cell \u001b[1;32mIn[2], line 3\u001b[0m\n\u001b[0;32m      1\u001b[0m num1 \u001b[38;5;241m=\u001b[39m \u001b[38;5;28mint\u001b[39m(\u001b[38;5;28minput\u001b[39m(\u001b[38;5;124m\"\u001b[39m\u001b[38;5;124mPlease enter the first integer: \u001b[39m\u001b[38;5;124m\"\u001b[39m))\n\u001b[0;32m      2\u001b[0m num2 \u001b[38;5;241m=\u001b[39m \u001b[38;5;28mint\u001b[39m(\u001b[38;5;28minput\u001b[39m(\u001b[38;5;124m\"\u001b[39m\u001b[38;5;124mPlease enter the second integer: \u001b[39m\u001b[38;5;124m\"\u001b[39m))\n\u001b[1;32m----> 3\u001b[0m quotient \u001b[38;5;241m=\u001b[39m num1 \u001b[38;5;241m/\u001b[39m num2\n\u001b[0;32m      4\u001b[0m \u001b[38;5;28mprint\u001b[39m(\u001b[38;5;124mf\u001b[39m\u001b[38;5;124m\"\u001b[39m\u001b[38;5;124mSo \u001b[39m\u001b[38;5;132;01m{\u001b[39;00mnum1\u001b[38;5;132;01m}\u001b[39;00m\u001b[38;5;124m / \u001b[39m\u001b[38;5;132;01m{\u001b[39;00mnum2\u001b[38;5;132;01m}\u001b[39;00m\u001b[38;5;124m = \u001b[39m\u001b[38;5;132;01m{\u001b[39;00mquotient\u001b[38;5;132;01m}\u001b[39;00m\u001b[38;5;124m...\u001b[39m\u001b[38;5;124m\"\u001b[39m)\n\u001b[0;32m      5\u001b[0m \u001b[38;5;28mprint\u001b[39m(\u001b[38;5;124m\"\u001b[39m\u001b[38;5;124mEnd of the program...\u001b[39m\u001b[38;5;124m\"\u001b[39m)\n",
      "\u001b[1;31mZeroDivisionError\u001b[0m: division by zero"
     ]
    }
   ],
   "source": [
    "num1 = int(input(\"Please enter the first integer: \"))\n",
    "num2 = int(input(\"Please enter the second integer: \"))\n",
    "quotient = num1 / num2\n",
    "print(f\"So {num1} / {num2} = {quotient}...\")\n",
    "print(\"End of the program...\")"
   ]
  },
  {
   "cell_type": "code",
   "execution_count": 6,
   "id": "ead5eacf-433f-4bf3-ad13-dd9fe5b6b81a",
   "metadata": {},
   "outputs": [
    {
     "name": "stdin",
     "output_type": "stream",
     "text": [
      "Please enter the first integer:  100\n",
      "Please enter the second integer:  ten\n"
     ]
    },
    {
     "ename": "ValueError",
     "evalue": "invalid literal for int() with base 10: 'ten'",
     "output_type": "error",
     "traceback": [
      "\u001b[1;31m---------------------------------------------------------------------------\u001b[0m",
      "\u001b[1;31mValueError\u001b[0m                                Traceback (most recent call last)",
      "Cell \u001b[1;32mIn[6], line 3\u001b[0m\n\u001b[0;32m      1\u001b[0m \u001b[38;5;28;01mtry\u001b[39;00m:\n\u001b[0;32m      2\u001b[0m     num1 \u001b[38;5;241m=\u001b[39m \u001b[38;5;28mint\u001b[39m(\u001b[38;5;28minput\u001b[39m(\u001b[38;5;124m\"\u001b[39m\u001b[38;5;124mPlease enter the first integer: \u001b[39m\u001b[38;5;124m\"\u001b[39m))\n\u001b[1;32m----> 3\u001b[0m     num2 \u001b[38;5;241m=\u001b[39m \u001b[38;5;28mint\u001b[39m(\u001b[38;5;28minput\u001b[39m(\u001b[38;5;124m\"\u001b[39m\u001b[38;5;124mPlease enter the second integer: \u001b[39m\u001b[38;5;124m\"\u001b[39m))\n\u001b[0;32m      4\u001b[0m     quotient \u001b[38;5;241m=\u001b[39m num1 \u001b[38;5;241m/\u001b[39m num2\n\u001b[0;32m      5\u001b[0m     \u001b[38;5;28mprint\u001b[39m(\u001b[38;5;124mf\u001b[39m\u001b[38;5;124m\"\u001b[39m\u001b[38;5;124mSo \u001b[39m\u001b[38;5;132;01m{\u001b[39;00mnum1\u001b[38;5;132;01m}\u001b[39;00m\u001b[38;5;124m / \u001b[39m\u001b[38;5;132;01m{\u001b[39;00mnum2\u001b[38;5;132;01m}\u001b[39;00m\u001b[38;5;124m = \u001b[39m\u001b[38;5;132;01m{\u001b[39;00mquotient\u001b[38;5;132;01m}\u001b[39;00m\u001b[38;5;124m...\u001b[39m\u001b[38;5;124m\"\u001b[39m)\n",
      "\u001b[1;31mValueError\u001b[0m: invalid literal for int() with base 10: 'ten'"
     ]
    }
   ],
   "source": [
    "try:\n",
    "    num1 = int(input(\"Please enter the first integer: \"))\n",
    "    num2 = int(input(\"Please enter the second integer: \"))\n",
    "    quotient = num1 / num2\n",
    "    print(f\"So {num1} / {num2} = {quotient}...\")\n",
    "except ZeroDivisionError as zde:\n",
    "    print(\"ZeroDivisionError: Division by ZERO is Illegal...\")\n",
    "    print(\"ZeroDivisionError: Error type:\", type(zde))\n",
    "    print(\"ZeroDivisionError: Error message:\", zde)\n",
    "print(\"End of the program...\")"
   ]
  },
  {
   "cell_type": "code",
   "execution_count": 9,
   "id": "ed9a454f-d6a3-44db-8321-18ff4716e805",
   "metadata": {},
   "outputs": [
    {
     "name": "stdin",
     "output_type": "stream",
     "text": [
      "Please enter the first integer:  100\n",
      "Please enter the second integer:  0\n"
     ]
    },
    {
     "name": "stdout",
     "output_type": "stream",
     "text": [
      "ZeroDivisionError: Division by ZERO is Illegal...\n",
      "ZeroDivisionError: Error type: <class 'ZeroDivisionError'>\n",
      "ZeroDivisionError: Error message: division by zero\n",
      "End of the program...\n"
     ]
    }
   ],
   "source": [
    "try:\n",
    "    num1 = int(input(\"Please enter the first integer: \"))\n",
    "    num2 = int(input(\"Please enter the second integer: \"))\n",
    "    quotient = num1 / num2\n",
    "    print(f\"So {num1} / {num2} = {quotient}...\")\n",
    "except ZeroDivisionError as zde:\n",
    "    print(\"ZeroDivisionError: Division by ZERO is Illegal...\")\n",
    "    print(\"ZeroDivisionError: Error type:\", type(zde))\n",
    "    print(\"ZeroDivisionError: Error message:\", zde)\n",
    "except ValueError as ve:\n",
    "    print(\"ValueError: Invalid value has been entered...\")\n",
    "    print(\"ValueError: Error type:\", type(ve))\n",
    "    print(\"ValueError: Error messsage:\", ve)\n",
    "print(\"End of the program...\")"
   ]
  },
  {
   "cell_type": "code",
   "execution_count": 11,
   "id": "6850a9ce-def6-4f32-a696-d705420e6a72",
   "metadata": {},
   "outputs": [
    {
     "name": "stdin",
     "output_type": "stream",
     "text": [
      "Please enter the first integer:  100\n",
      "Please enter the second integer:  ten\n"
     ]
    },
    {
     "name": "stdout",
     "output_type": "stream",
     "text": [
      "ValueError: Invalid value has been entered...\n",
      "ValueError: Error type: <class 'ValueError'>\n",
      "ValueError: Error messsage: invalid literal for int() with base 10: 'ten'\n",
      "End of the program...\n"
     ]
    }
   ],
   "source": [
    "try:\n",
    "    num1 = int(input(\"Please enter the first integer: \"))\n",
    "    num2 = int(input(\"Please enter the second integer: \"))\n",
    "    quotient = num1 / num2\n",
    "    print(f\"So {num1} / {num2} = {quotient}...\")\n",
    "except ValueError as ve:\n",
    "    print(\"ValueError: Invalid value has been entered...\")\n",
    "    print(\"ValueError: Error type:\", type(ve))\n",
    "    print(\"ValueError: Error messsage:\", ve)\n",
    "except ZeroDivisionError as zde:\n",
    "    print(\"ZeroDivisionError: Division by ZERO is Illegal...\")\n",
    "    print(\"ZeroDivisionError: Error type:\", type(zde))\n",
    "    print(\"ZeroDivisionError: Error message:\", zde)\n",
    "print(\"End of the program...\")"
   ]
  },
  {
   "cell_type": "code",
   "execution_count": 20,
   "id": "fa66b0be-3a2f-4051-9d51-53caf6babe24",
   "metadata": {},
   "outputs": [
    {
     "name": "stdin",
     "output_type": "stream",
     "text": [
      "Please enter the first integer:  100\n",
      "Please enter the second integer:  20\n"
     ]
    },
    {
     "name": "stdout",
     "output_type": "stream",
     "text": [
      "So 100 / 20 = 5.0...\n",
      "Else: Else block is executing...\n",
      "Else: No exception has occurred...\n",
      "Finally: Finally block is executing...\n",
      "Finally: Finally block executes always...\n",
      "End of the program...\n"
     ]
    }
   ],
   "source": [
    "try:\n",
    "    num1 = int(input(\"Please enter the first integer: \"))\n",
    "    num2 = int(input(\"Please enter the second integer: \"))\n",
    "    quotient = num1 / num2\n",
    "    print(f\"So {num1} / {num2} = {quotient}...\")\n",
    "except ValueError as ve:\n",
    "    print(\"ValueError: Invalid value has been entered...\")\n",
    "    print(\"ValueError: Error type:\", type(ve))\n",
    "    print(\"ValueError: Error messsage:\", ve)\n",
    "except ZeroDivisionError as zde:\n",
    "    print(\"ZeroDivisionError: Division by ZERO is Illegal...\")\n",
    "    print(\"ZeroDivisionError: Error type:\", type(zde))\n",
    "    print(\"ZeroDivisionError: Error message:\", zde)\n",
    "else:\n",
    "    print(\"Else: Else block is executing...\")\n",
    "    print(\"Else: No exception has occurred...\")\n",
    "finally:\n",
    "    print(\"Finally: Finally block is executing...\")\n",
    "    print(\"Finally: Finally block executes always...\")\n",
    "print(\"End of the program...\")"
   ]
  },
  {
   "cell_type": "code",
   "execution_count": 22,
   "id": "deada8a9-8a9d-444e-86b6-496400d76d10",
   "metadata": {},
   "outputs": [
    {
     "name": "stdin",
     "output_type": "stream",
     "text": [
      "Please enter the first integer:  100\n",
      "Please enter the second integer:  ten\n"
     ]
    },
    {
     "name": "stdout",
     "output_type": "stream",
     "text": [
      "Exception: Some other exception has taken place...\n",
      "Exception: Error type: <class 'ValueError'>\n",
      "Exception: Error message: invalid literal for int() with base 10: 'ten'\n",
      "Finally: Finally block is executing...\n",
      "Finally: Finally block executes always...\n",
      "End of the program...\n"
     ]
    }
   ],
   "source": [
    "try:\n",
    "    num1 = int(input(\"Please enter the first integer: \"))\n",
    "    num2 = int(input(\"Please enter the second integer: \"))\n",
    "    quotient = num1 / num2\n",
    "    print(f\"So {num1} / {num2} = {quotient}...\")\n",
    "# except ValueError as ve:\n",
    "#     print(\"ValueError: Invalid value has been entered...\")\n",
    "#     print(\"ValueError: Error type:\", type(ve))\n",
    "#     print(\"ValueError: Error messsage:\", ve)\n",
    "except ZeroDivisionError as zde:\n",
    "    print(\"ZeroDivisionError: Division by ZERO is Illegal...\")\n",
    "    print(\"ZeroDivisionError: Error type:\", type(zde))\n",
    "    print(\"ZeroDivisionError: Error message:\", zde)\n",
    "except Exception as ex:\n",
    "    print(\"Exception: Some other exception has taken place...\")\n",
    "    print(\"Exception: Error type:\", type(ex))\n",
    "    print(\"Exception: Error message:\", ex)\n",
    "else:\n",
    "    print(\"Else: Else block is executing...\")\n",
    "    print(\"Else: No exception has occurred...\")\n",
    "finally:\n",
    "    print(\"Finally: Finally block is executing...\")\n",
    "    print(\"Finally: Finally block executes always...\")\n",
    "print(\"End of the program...\")"
   ]
  },
  {
   "cell_type": "code",
   "execution_count": 21,
   "id": "3181a70c-bc3d-4e9f-bc26-6526fcf829de",
   "metadata": {},
   "outputs": [
    {
     "name": "stdin",
     "output_type": "stream",
     "text": [
      "Please enter the first integer:  100\n",
      "Please enter the second integer:  0\n"
     ]
    },
    {
     "name": "stdout",
     "output_type": "stream",
     "text": [
      "Exception: Some other exception has taken place...\n",
      "Exception: Error type: <class 'ZeroDivisionError'>\n",
      "Exception: Error message: division by zero\n",
      "Finally: Finally block is executing...\n",
      "Finally: Finally block executes always...\n",
      "End of the program...\n"
     ]
    }
   ],
   "source": [
    "try:\n",
    "    num1 = int(input(\"Please enter the first integer: \"))\n",
    "    num2 = int(input(\"Please enter the second integer: \"))\n",
    "    quotient = num1 / num2\n",
    "    print(f\"So {num1} / {num2} = {quotient}...\")\n",
    "except ValueError as ve:\n",
    "    print(\"ValueError: Invalid value has been entered...\")\n",
    "    print(\"ValueError: Error type:\", type(ve))\n",
    "    print(\"ValueError: Error messsage:\", ve)\n",
    "# except ZeroDivisionError as zde:\n",
    "#     print(\"ZeroDivisionError: Division by ZERO is Illegal...\")\n",
    "#     print(\"ZeroDivisionError: Error type:\", type(zde))\n",
    "#     print(\"ZeroDivisionError: Error message:\", zde)\n",
    "except Exception as ex:\n",
    "    print(\"Exception: Some other exception has taken place...\")\n",
    "    print(\"Exception: Error type:\", type(ex))\n",
    "    print(\"Exception: Error message:\", ex)\n",
    "else:\n",
    "    print(\"Else: Else block is executing...\")\n",
    "    print(\"Else: No exception has occurred...\")\n",
    "finally:\n",
    "    print(\"Finally: Finally block is executing...\")\n",
    "    print(\"Finally: Finally block executes always...\")\n",
    "print(\"End of the program...\")"
   ]
  },
  {
   "cell_type": "code",
   "execution_count": 21,
   "id": "ffa30b77-79ac-4e6a-9c7d-2f1166852620",
   "metadata": {},
   "outputs": [
    {
     "name": "stdin",
     "output_type": "stream",
     "text": [
      "Please enter the first integer:  100\n",
      "Please enter the second integer:  0\n"
     ]
    },
    {
     "name": "stdout",
     "output_type": "stream",
     "text": [
      "Exception: Some other exception has taken place...\n",
      "Exception: Error type: <class 'ZeroDivisionError'>\n",
      "Exception: Error message: division by zero\n",
      "Finally: Finally block is executing...\n",
      "Finally: Finally block executes always...\n",
      "End of the program...\n"
     ]
    }
   ],
   "source": [
    "try:\n",
    "    num1 = int(input(\"Please enter the first integer: \"))\n",
    "    num2 = int(input(\"Please enter the second integer: \"))\n",
    "    quotient = num1 / num2\n",
    "    print(f\"So {num1} / {num2} = {quotient}...\")\n",
    "except ValueError as ve:\n",
    "    print(\"ValueError: Invalid value has been entered...\")\n",
    "    print(\"ValueError: Error type:\", type(ve))\n",
    "    print(\"ValueError: Error messsage:\", ve)\n",
    "except ZeroDivisionError as zde:\n",
    "    print(\"ZeroDivisionError: Division by ZERO is Illegal...\")\n",
    "    print(\"ZeroDivisionError: Error type:\", type(zde))\n",
    "    print(\"ZeroDivisionError: Error message:\", zde)\n",
    "except Exception as ex:\n",
    "    print(\"Exception: Some other exception has taken place...\")\n",
    "    print(\"Exception: Error type:\", type(ex))\n",
    "    print(\"Exception: Error message:\", ex)\n",
    "else:\n",
    "    print(\"Else: Else block is executing...\")\n",
    "    print(\"Else: No exception has occurred...\")\n",
    "finally:\n",
    "    print(\"Finally: Finally block is executing...\")\n",
    "    print(\"Finally: Finally block executes always...\")\n",
    "print(\"End of the program...\")"
   ]
  },
  {
   "cell_type": "code",
   "execution_count": 31,
   "id": "04efaaa3-e253-482d-9799-8d920eb982da",
   "metadata": {},
   "outputs": [
    {
     "name": "stdin",
     "output_type": "stream",
     "text": [
      "Please enter the first integer:  100\n",
      "Please enter the second integer:  20\n"
     ]
    },
    {
     "name": "stdout",
     "output_type": "stream",
     "text": [
      "So 100 / 20 = 5.0...\n",
      "Else: Else block is executing...\n",
      "Else: No exception has occurred...\n",
      "Finally: Finally block is executing...\n",
      "Finally: Finally block executes always...\n",
      "End of the program...\n"
     ]
    }
   ],
   "source": [
    "# valid input integers are ranging from -100 to +100\n",
    "try:\n",
    "    num1 = int(input(\"Please enter the first integer: \"))\n",
    "    num2 = int(input(\"Please enter the second integer: \"))\n",
    "    if (num1 < -100 or num2 < -100): raise NameError(\"Below-100\")\n",
    "    if (num1 > 100 or num2 > 100): raise NameError(\"Above+100\")\n",
    "    quotient = num1 / num2\n",
    "    print(f\"So {num1} / {num2} = {quotient}...\")\n",
    "except ValueError as ve:\n",
    "    print(\"ValueError: Invalid value has been entered...\")\n",
    "    print(\"ValueError: Error type:\", type(ve))\n",
    "    print(\"ValueError: Error messsage:\", ve)\n",
    "except ZeroDivisionError as zde:\n",
    "    print(\"ZeroDivisionError: Division by ZERO is Illegal...\")\n",
    "    print(\"ZeroDivisionError: Error type:\", type(zde))\n",
    "    print(\"ZeroDivisionError: Error message:\", zde)\n",
    "except NameError as ne:\n",
    "    print(\"NameError: Out of range inputs have been provided...\")\n",
    "    print(\"NameError: Error type:\", type(ne))\n",
    "    if (str(ne) == \"Above+100\"): print(\"NameError: Input number is above 100...\")\n",
    "    if (str(ne) == \"Below-100\"): print(\"NameError: Input number is below -100...\")    \n",
    "except Exception as ex:\n",
    "    print(\"Exception: Some other exception has taken place...\")\n",
    "    print(\"Exception: Error type:\", type(ex))\n",
    "    print(\"Exception: Error message:\", ex)\n",
    "else:\n",
    "    print(\"Else: Else block is executing...\")\n",
    "    print(\"Else: No exception has occurred...\")\n",
    "finally:\n",
    "    print(\"Finally: Finally block is executing...\")\n",
    "    print(\"Finally: Finally block executes always...\")\n",
    "print(\"End of the program...\")"
   ]
  },
  {
   "cell_type": "code",
   "execution_count": 32,
   "id": "33764662-64dd-4a75-b952-8c9ad72496da",
   "metadata": {},
   "outputs": [
    {
     "name": "stdin",
     "output_type": "stream",
     "text": [
      "Please enter the first integer:  100\n",
      "Please enter the second integer:  ten\n"
     ]
    },
    {
     "name": "stdout",
     "output_type": "stream",
     "text": [
      "ValueError: Invalid value has been entered...\n",
      "ValueError: Error type: <class 'ValueError'>\n",
      "ValueError: Error messsage: invalid literal for int() with base 10: 'ten'\n",
      "Finally: Finally block is executing...\n",
      "Finally: Finally block executes always...\n"
     ]
    },
    {
     "name": "stdin",
     "output_type": "stream",
     "text": [
      "Please enter the first integer:  100\n",
      "Please enter the second integer:  0\n"
     ]
    },
    {
     "name": "stdout",
     "output_type": "stream",
     "text": [
      "ZeroDivisionError: Division by ZERO is Illegal...\n",
      "ZeroDivisionError: Error type: <class 'ZeroDivisionError'>\n",
      "ZeroDivisionError: Error message: division by zero\n",
      "Finally: Finally block is executing...\n",
      "Finally: Finally block executes always...\n"
     ]
    },
    {
     "name": "stdin",
     "output_type": "stream",
     "text": [
      "Please enter the first integer:  900\n",
      "Please enter the second integer:  20\n"
     ]
    },
    {
     "name": "stdout",
     "output_type": "stream",
     "text": [
      "NameError: Out of range inputs have been provided...\n",
      "NameError: Error type: <class 'NameError'>\n",
      "NameError: Input number is above 100...\n",
      "Finally: Finally block is executing...\n",
      "Finally: Finally block executes always...\n"
     ]
    },
    {
     "name": "stdin",
     "output_type": "stream",
     "text": [
      "Please enter the first integer:  -900\n",
      "Please enter the second integer:  20\n"
     ]
    },
    {
     "name": "stdout",
     "output_type": "stream",
     "text": [
      "NameError: Out of range inputs have been provided...\n",
      "NameError: Error type: <class 'NameError'>\n",
      "NameError: Input number is below -100...\n",
      "Finally: Finally block is executing...\n",
      "Finally: Finally block executes always...\n"
     ]
    },
    {
     "name": "stdin",
     "output_type": "stream",
     "text": [
      "Please enter the first integer:  100\n",
      "Please enter the second integer:  20\n"
     ]
    },
    {
     "name": "stdout",
     "output_type": "stream",
     "text": [
      "So 100 / 20 = 5.0...\n",
      "Else: Else block is executing...\n",
      "Else: No exception has occurred...\n",
      "Finally: Finally block is executing...\n",
      "Finally: Finally block executes always...\n",
      "End of the program...\n"
     ]
    }
   ],
   "source": [
    "# valid input integers are ranging from -100 to +100\n",
    "while (True):\n",
    "    try:\n",
    "        num1 = int(input(\"Please enter the first integer: \"))\n",
    "        num2 = int(input(\"Please enter the second integer: \"))\n",
    "        if (num1 < -100 or num2 < -100): raise NameError(\"Below-100\")\n",
    "        if (num1 > 100 or num2 > 100): raise NameError(\"Above+100\")\n",
    "        quotient = num1 / num2\n",
    "        print(f\"So {num1} / {num2} = {quotient}...\")\n",
    "    except ValueError as ve:\n",
    "        print(\"ValueError: Invalid value has been entered...\")\n",
    "        print(\"ValueError: Error type:\", type(ve))\n",
    "        print(\"ValueError: Error messsage:\", ve)\n",
    "    except ZeroDivisionError as zde:\n",
    "        print(\"ZeroDivisionError: Division by ZERO is Illegal...\")\n",
    "        print(\"ZeroDivisionError: Error type:\", type(zde))\n",
    "        print(\"ZeroDivisionError: Error message:\", zde)\n",
    "    except NameError as ne:\n",
    "        print(\"NameError: Out of range inputs have been provided...\")\n",
    "        print(\"NameError: Error type:\", type(ne))\n",
    "        if (str(ne) == \"Above+100\"): print(\"NameError: Input number is above 100...\")\n",
    "        if (str(ne) == \"Below-100\"): print(\"NameError: Input number is below -100...\")    \n",
    "    except Exception as ex:\n",
    "        print(\"Exception: Some other exception has taken place...\")\n",
    "        print(\"Exception: Error type:\", type(ex))\n",
    "        print(\"Exception: Error message:\", ex)\n",
    "    else:\n",
    "        print(\"Else: Else block is executing...\")\n",
    "        print(\"Else: No exception has occurred...\")\n",
    "        break\n",
    "    finally:\n",
    "        print(\"Finally: Finally block is executing...\")\n",
    "        print(\"Finally: Finally block executes always...\")\n",
    "print(\"End of the program...\")"
   ]
  },
  {
   "cell_type": "code",
   "execution_count": null,
   "id": "4c33023f-4839-455b-936b-a805022874df",
   "metadata": {},
   "outputs": [],
   "source": [
    "https://docs.python.org/3.11/library/exceptions.html"
   ]
  }
 ],
 "metadata": {
  "kernelspec": {
   "display_name": "Python 3 (ipykernel)",
   "language": "python",
   "name": "python3"
  },
  "language_info": {
   "codemirror_mode": {
    "name": "ipython",
    "version": 3
   },
   "file_extension": ".py",
   "mimetype": "text/x-python",
   "name": "python",
   "nbconvert_exporter": "python",
   "pygments_lexer": "ipython3",
   "version": "3.11.7"
  }
 },
 "nbformat": 4,
 "nbformat_minor": 5
}
